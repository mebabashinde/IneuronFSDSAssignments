{
 "cells": [
  {
   "cell_type": "code",
   "execution_count": null,
   "id": "f5379154",
   "metadata": {},
   "outputs": [],
   "source": [
    "1. In the below elements which of them are values or an expression? eg:- values can be\n",
    "integer or string and expressions will be mathematical operators.\n",
    "*\n",
    "'hello'\n",
    "-87.8\n",
    "-\n",
    "/\n",
    "+\n",
    "6\n",
    "\n",
    "Ans: values- 'hello', -87.8, 6\n",
    "     mathematical operators- *, -, /, +"
   ]
  },
  {
   "cell_type": "code",
   "execution_count": null,
   "id": "cf3d5f76",
   "metadata": {},
   "outputs": [],
   "source": [
    "2. What is the difference between string and variable?\n",
    "Ans: string is a data type and is always starts and ends with a quote.\n",
    "variable is a somethig that we use to store the value that you intend to use later."
   ]
  },
  {
   "cell_type": "code",
   "execution_count": null,
   "id": "e218f69f",
   "metadata": {},
   "outputs": [],
   "source": [
    "3. Describe three different data types.\n",
    "Ans: 1. Integers – a positive or negative whole number\n",
    "2.Float – a real number with a decimal point\n",
    "3.Complex Numbers – it is specified as (real part) + (imaginary part)j. For example – 2+3j\n"
   ]
  },
  {
   "cell_type": "code",
   "execution_count": null,
   "id": "deafd403",
   "metadata": {},
   "outputs": [],
   "source": [
    "4. What is an expression made up of? What do all expressions do?\n",
    "Ans: An expression is made up of variables, operators, and method invocations for evaluating the values."
   ]
  },
  {
   "cell_type": "code",
   "execution_count": null,
   "id": "84383e31",
   "metadata": {},
   "outputs": [],
   "source": [
    "5. This assignment statements, like spam = 10. What is the difference between an\n",
    "expression and a statement?\n",
    "ANs: The expression returns some output after evaluation whereas the statement is an instruction that doesnt return anything."
   ]
  },
  {
   "cell_type": "code",
   "execution_count": null,
   "id": "4c05c295",
   "metadata": {},
   "outputs": [],
   "source": [
    "6. After running the following code, what does the variable bacon contain?\n",
    "bacon = 22\n",
    "bacon + 1\n",
    "Ans: 23"
   ]
  },
  {
   "cell_type": "code",
   "execution_count": null,
   "id": "70985b34",
   "metadata": {},
   "outputs": [],
   "source": [
    "7. What should the values of the following two terms be?\n",
    "'spam'+'spamspam' &\n",
    "'spam'*3\n",
    "ANs: 'spamspamspam'&\n",
    "'spamspamspam'"
   ]
  },
  {
   "cell_type": "code",
   "execution_count": null,
   "id": "a00efa16",
   "metadata": {},
   "outputs": [],
   "source": [
    "8. Why is eggs a valid variable name while 100 is invalid?\n",
    "ANs: In variable name the first character must be a letter and as 100 doesn't start with letter it is invalid."
   ]
  },
  {
   "cell_type": "code",
   "execution_count": null,
   "id": "cbb4b8a1",
   "metadata": {},
   "outputs": [],
   "source": [
    "9. What three functions can be used to get the integer, floating-point number, or string\n",
    "version of a value?\n",
    "Ans: int(), float(), and str() "
   ]
  },
  {
   "cell_type": "code",
   "execution_count": null,
   "id": "0161c8d6",
   "metadata": {},
   "outputs": [],
   "source": [
    "10. Why does this expression cause an error? How can you fix it?\n",
    "'I have eaten' + 99 + 'burritos.'\n",
    "Ans:Error, because integer and string can't be concatenated. "
   ]
  },
  {
   "cell_type": "code",
   "execution_count": null,
   "id": "54c03ec9",
   "metadata": {},
   "outputs": [],
   "source": []
  }
 ],
 "metadata": {
  "kernelspec": {
   "display_name": "Python 3 (ipykernel)",
   "language": "python",
   "name": "python3"
  },
  "language_info": {
   "codemirror_mode": {
    "name": "ipython",
    "version": 3
   },
   "file_extension": ".py",
   "mimetype": "text/x-python",
   "name": "python",
   "nbconvert_exporter": "python",
   "pygments_lexer": "ipython3",
   "version": "3.9.7"
  }
 },
 "nbformat": 4,
 "nbformat_minor": 5
}
