{
 "cells": [
  {
   "cell_type": "code",
   "execution_count": null,
   "id": "f2810ac7",
   "metadata": {},
   "outputs": [],
   "source": [
    "1. Why are functions advantageous to have in your programs?\n",
    "\n",
    "Ans: Functions reduce the need for duplicate code. This makes programs shorter, easier to read, and easier to update."
   ]
  },
  {
   "cell_type": "code",
   "execution_count": null,
   "id": "d1e43c86",
   "metadata": {},
   "outputs": [],
   "source": [
    "2. When does the code in a function run: when it&#39;s specified or when it&#39;s called?\n",
    "    \n",
    "    Ans: The code in a function executes when the function is called, not when the function is specified."
   ]
  },
  {
   "cell_type": "code",
   "execution_count": null,
   "id": "c92d9107",
   "metadata": {},
   "outputs": [],
   "source": [
    "3.  What statement creates a function?\n",
    "\n",
    "Ans: def"
   ]
  },
  {
   "cell_type": "code",
   "execution_count": null,
   "id": "edaa397b",
   "metadata": {},
   "outputs": [],
   "source": [
    "4. What is the difference between a function and a function call?\n",
    "\n",
    "Ans: A function is procedure to achieve a particular result while function call is using this function to achive that task."
   ]
  },
  {
   "cell_type": "code",
   "execution_count": null,
   "id": "03ca2f16",
   "metadata": {},
   "outputs": [],
   "source": [
    "5. How many global scopes are there in a Python program? How many local scopes?\n",
    "\n",
    "Ans: There is only one global Python scope per program execution and a local scope is created whenever a function is called."
   ]
  },
  {
   "cell_type": "code",
   "execution_count": null,
   "id": "1cbfb183",
   "metadata": {},
   "outputs": [],
   "source": [
    "6. What happens to variables in a local scope when the function call returns?\n",
    "\n",
    "Ans: The local scope is destroyed, and all the variables in it are forgotten."
   ]
  },
  {
   "cell_type": "code",
   "execution_count": null,
   "id": "2ac01f26",
   "metadata": {},
   "outputs": [],
   "source": [
    "7. What is the concept of a return value? Is it possible to have a return value in an expression?\n",
    "\n",
    "Ans: A return value is the value that a function call and evaluates and a return value can be used as part of an expression."
   ]
  },
  {
   "cell_type": "code",
   "execution_count": null,
   "id": "e1335c96",
   "metadata": {},
   "outputs": [],
   "source": [
    "8. If a function does not have a return statement, what is the return value of a call to that function?\n",
    "\n",
    "Ans: None"
   ]
  },
  {
   "cell_type": "code",
   "execution_count": null,
   "id": "9ec898eb",
   "metadata": {},
   "outputs": [],
   "source": [
    "9. How do you make a function variable refer to the global variable?\n",
    "\n",
    " ANs: A global statement will force a variable in a function to refer to the global variable"
   ]
  },
  {
   "cell_type": "code",
   "execution_count": null,
   "id": "941d348e",
   "metadata": {},
   "outputs": [],
   "source": [
    "10. What is the data type of None?\n",
    "\n",
    "ANs: NoneType"
   ]
  },
  {
   "cell_type": "code",
   "execution_count": null,
   "id": "4a5c3bb9",
   "metadata": {},
   "outputs": [],
   "source": [
    "11. What does the sentence import areallyourpetsnamederic do?\n",
    "\n",
    "Ans: imports a module named areallyourpetsnamederic\n",
    "    \n",
    "    It gives error though"
   ]
  },
  {
   "cell_type": "code",
   "execution_count": 1,
   "id": "f1bfa7fe",
   "metadata": {},
   "outputs": [
    {
     "ename": "ModuleNotFoundError",
     "evalue": "No module named 'areallyourpetsnamederic'",
     "output_type": "error",
     "traceback": [
      "\u001b[1;31m---------------------------------------------------------------------------\u001b[0m",
      "\u001b[1;31mModuleNotFoundError\u001b[0m                       Traceback (most recent call last)",
      "\u001b[1;32m~\\AppData\\Local\\Temp/ipykernel_12424/51184242.py\u001b[0m in \u001b[0;36m<module>\u001b[1;34m\u001b[0m\n\u001b[1;32m----> 1\u001b[1;33m \u001b[1;32mimport\u001b[0m \u001b[0mareallyourpetsnamederic\u001b[0m\u001b[1;33m\u001b[0m\u001b[1;33m\u001b[0m\u001b[0m\n\u001b[0m",
      "\u001b[1;31mModuleNotFoundError\u001b[0m: No module named 'areallyourpetsnamederic'"
     ]
    }
   ],
   "source": [
    "12. If you had a bacon() feature in a spam module, what would you call it after importing spam?\n",
    "\n",
    "ANs:spam.bacon()"
   ]
  },
  {
   "cell_type": "code",
   "execution_count": null,
   "id": "af942d5a",
   "metadata": {},
   "outputs": [],
   "source": [
    "13. What can you do to save a programme from crashing if it encounters an error?\n",
    "\n",
    "ANs: Using try clause"
   ]
  },
  {
   "cell_type": "code",
   "execution_count": null,
   "id": "c3d67217",
   "metadata": {},
   "outputs": [],
   "source": [
    "14. What is the purpose of the try clause? What is the purpose of the except clause?\n",
    "\n",
    "ANs: \n",
    "\n",
    "code causing an error goes in the try clause.\n",
    "\n",
    " if an error happens goes in the except clause.\n"
   ]
  }
 ],
 "metadata": {
  "kernelspec": {
   "display_name": "Python 3 (ipykernel)",
   "language": "python",
   "name": "python3"
  },
  "language_info": {
   "codemirror_mode": {
    "name": "ipython",
    "version": 3
   },
   "file_extension": ".py",
   "mimetype": "text/x-python",
   "name": "python",
   "nbconvert_exporter": "python",
   "pygments_lexer": "ipython3",
   "version": "3.9.7"
  }
 },
 "nbformat": 4,
 "nbformat_minor": 5
}
