{
 "cells": [
  {
   "cell_type": "code",
   "execution_count": null,
   "id": "6453330a",
   "metadata": {},
   "outputs": [],
   "source": [
    "1. What exactly is []?\n",
    "\n",
    "ANs: AN empty list"
   ]
  },
  {
   "cell_type": "code",
   "execution_count": null,
   "id": "262e3c13",
   "metadata": {},
   "outputs": [],
   "source": [
    "2. In a list of values stored in a variable called spam, how would you assign the value 'hello' as the third value? (Assume [2, 4, 6, 8, 10] are in spam.)\n",
    "\n",
    "Ans: spam[2] = 'hello'"
   ]
  },
  {
   "cell_type": "code",
   "execution_count": null,
   "id": "53643382",
   "metadata": {},
   "outputs": [],
   "source": [
    "3. What is the value of spam[int(int('3' * 2) / 11)]?\n",
    "\n",
    "Ans: [3]"
   ]
  },
  {
   "cell_type": "code",
   "execution_count": 2,
   "id": "99fe75e2",
   "metadata": {},
   "outputs": [
    {
     "data": {
      "text/plain": [
       "[3]"
      ]
     },
     "execution_count": 2,
     "metadata": {},
     "output_type": "execute_result"
    }
   ],
   "source": [
    "4. What is the value of spam[-1]?\n",
    "\n",
    "Ans: [-1]"
   ]
  },
  {
   "cell_type": "code",
   "execution_count": 7,
   "id": "b843ad4d",
   "metadata": {},
   "outputs": [
    {
     "ename": "SyntaxError",
     "evalue": "invalid syntax (Temp/ipykernel_16236/27254747.py, line 1)",
     "output_type": "error",
     "traceback": [
      "\u001b[1;36m  File \u001b[1;32m\"C:\\Users\\DELL\\AppData\\Local\\Temp/ipykernel_16236/27254747.py\"\u001b[1;36m, line \u001b[1;32m1\u001b[0m\n\u001b[1;33m    [:2]\u001b[0m\n\u001b[1;37m     ^\u001b[0m\n\u001b[1;31mSyntaxError\u001b[0m\u001b[1;31m:\u001b[0m invalid syntax\n"
     ]
    }
   ],
   "source": [
    "5. WHat is the value of spam[:2]\n",
    "Let's pretend bacon has the list l=[3.14, 'cat', 11, 'cat', 'True'] for the next three questions.\n",
    "\n",
    "ANs:[3.14, 'cat']"
   ]
  },
  {
   "cell_type": "code",
   "execution_count": 11,
   "id": "5a9087f8",
   "metadata": {},
   "outputs": [],
   "source": [
    "6. What is the value of bacon.index('cat')?\n",
    "\n",
    "Ans: 1"
   ]
  },
  {
   "cell_type": "code",
   "execution_count": 12,
   "id": "83dfca3f",
   "metadata": {},
   "outputs": [
    {
     "data": {
      "text/plain": [
       "[3.14, 'cat']"
      ]
     },
     "execution_count": 12,
     "metadata": {},
     "output_type": "execute_result"
    }
   ],
   "source": [
    "7. How does bacon.append(99) change the look of the list value in bacon?\n",
    "\n",
    "ANs: l=[3.14, 'cat', 11, 'cat', 'True',99]"
   ]
  },
  {
   "cell_type": "code",
   "execution_count": null,
   "id": "ecab4f20",
   "metadata": {},
   "outputs": [],
   "source": [
    "8. How does bacon.remove('cat') change the look of the list in bacon?\n",
    "\n",
    "ANs: l=[3.14, 11, 'cat', 'True',99]"
   ]
  },
  {
   "cell_type": "code",
   "execution_count": null,
   "id": "867db295",
   "metadata": {},
   "outputs": [],
   "source": [
    "9. What are the list concatenation and list replication operators?\n",
    "\n",
    "ANs: + and * respectively"
   ]
  },
  {
   "cell_type": "code",
   "execution_count": null,
   "id": "4f7ff5bc",
   "metadata": {},
   "outputs": [],
   "source": [
    "10. What is difference between the list methods append() and insert()?\n",
    "\n",
    "Ans: append() will add values only to the end of a list, insert() can add them anywhere in the list"
   ]
  },
  {
   "cell_type": "code",
   "execution_count": null,
   "id": "59de551e",
   "metadata": {},
   "outputs": [],
   "source": [
    "11. What are the two methods for removing items from a list?\n",
    "\n",
    "ANs: del statement and the remove() list method"
   ]
  },
  {
   "cell_type": "code",
   "execution_count": null,
   "id": "332e1259",
   "metadata": {},
   "outputs": [],
   "source": [
    "12. Describe how list values and string values are identical.\n",
    "\n",
    "ANs: Both can be passed to len(), have indexes and slices, be used in for loops, be concatenated or replicated, and be used with the in and not in operators"
   ]
  },
  {
   "cell_type": "code",
   "execution_count": null,
   "id": "0b7afeda",
   "metadata": {},
   "outputs": [],
   "source": [
    "13. What's the difference between tuples and lists?\n",
    "\n",
    "Ans: Lists are mutable; they can have values added, removed, or changed. Tuples are immutable; they cannot be changed at all. Also, tuples are written using parentheses, ( and ), while lists use the square brackets, [ and ]."
   ]
  },
  {
   "cell_type": "code",
   "execution_count": null,
   "id": "47eb3a56",
   "metadata": {},
   "outputs": [],
   "source": [
    "14. How do you type a tuple value that only contains the integer 42?\n",
    "\n",
    "ANs: (42,)"
   ]
  },
  {
   "cell_type": "code",
   "execution_count": 16,
   "id": "e50eccb9",
   "metadata": {},
   "outputs": [],
   "source": [
    "15. How do you get a list value's tuple form? How do you get a tuple value's list form?\n",
    "\n",
    "ANs: tuple() and list() functions, respectively"
   ]
  },
  {
   "cell_type": "code",
   "execution_count": 17,
   "id": "1e01b071",
   "metadata": {},
   "outputs": [
    {
     "data": {
      "text/plain": [
       "tuple"
      ]
     },
     "execution_count": 17,
     "metadata": {},
     "output_type": "execute_result"
    }
   ],
   "source": [
    "16. Variables that \"contain\" list values are not necessarily lists themselves. Instead, what do they contain?\n",
    "\n",
    "ANs: They contain references to list values"
   ]
  },
  {
   "cell_type": "code",
   "execution_count": null,
   "id": "52023537",
   "metadata": {},
   "outputs": [],
   "source": [
    "17. How do you distinguish between copy.copy() and copy.deepcopy()?\n",
    "\n",
    "ANs: copy.copy() function will do a shallow copy of a list, while the copy.deepcopy() function will do a deep copy of a list. That is, only copy.deepcopy() will duplicate any lists inside the list."
   ]
  }
 ],
 "metadata": {
  "kernelspec": {
   "display_name": "Python 3 (ipykernel)",
   "language": "python",
   "name": "python3"
  },
  "language_info": {
   "codemirror_mode": {
    "name": "ipython",
    "version": 3
   },
   "file_extension": ".py",
   "mimetype": "text/x-python",
   "name": "python",
   "nbconvert_exporter": "python",
   "pygments_lexer": "ipython3",
   "version": "3.9.7"
  }
 },
 "nbformat": 4,
 "nbformat_minor": 5
}
